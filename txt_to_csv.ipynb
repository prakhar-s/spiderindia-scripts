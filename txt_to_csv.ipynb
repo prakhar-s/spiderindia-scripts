{
 "cells": [
  {
   "cell_type": "code",
   "execution_count": 5,
   "id": "a217917c",
   "metadata": {},
   "outputs": [],
   "source": [
    "import csv\n",
    "fields=[\"Place Names\"]\n",
    "\n",
    "with open(\"extended_locations.csv\",'a') as csvfile:\n",
    "    csvwriter=csv.writer(csvfile)\n",
    "    csvwriter.writerow(fields)\n",
    "    \n",
    "file1 = open('extended_placenames.txt', 'r')\n",
    "Lines = file1.readlines()\n",
    "\n",
    "for line in Lines:\n",
    "    row=[line]\n",
    "    with open(\"extended_locations.csv\",'a') as csvfile1:\n",
    "        csvwriter1=csv.writer(csvfile1)\n",
    "        csvwriter1.writerow(row)\n",
    "    "
   ]
  }
 ],
 "metadata": {
  "kernelspec": {
   "display_name": "Python 3",
   "language": "python",
   "name": "python3"
  },
  "language_info": {
   "codemirror_mode": {
    "name": "ipython",
    "version": 3
   },
   "file_extension": ".py",
   "mimetype": "text/x-python",
   "name": "python",
   "nbconvert_exporter": "python",
   "pygments_lexer": "ipython3",
   "version": "3.6.9"
  }
 },
 "nbformat": 4,
 "nbformat_minor": 5
}
