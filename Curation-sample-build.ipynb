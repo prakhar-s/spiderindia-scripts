{
 "cells": [
  {
   "cell_type": "code",
   "execution_count": 28,
   "id": "2344b266",
   "metadata": {},
   "outputs": [],
   "source": [
    "import pandas as pd\n",
    "import json\n",
    "import datetime\n",
    "import csv\n",
    "import math"
   ]
  },
  {
   "cell_type": "code",
   "execution_count": 29,
   "id": "3c373ccc",
   "metadata": {},
   "outputs": [],
   "source": [
    "def extractReplies(listOfComments):\n",
    "    text=[]\n",
    "    seperator=\"||\"\n",
    "    for i in range(len(listOfComments)):\n",
    "        replyObject=listOfComments[i]\n",
    "        replyText=replyObject[\"comment_text\"]\n",
    "        text.append(replyText)\n",
    "    result=seperator.join(text)\n",
    "    return result\n",
    "    \n",
    "    "
   ]
  },
  {
   "cell_type": "code",
   "execution_count": 30,
   "id": "d6cc7cb4",
   "metadata": {},
   "outputs": [],
   "source": [
    "def extractCommentsText(listOfComments):\n",
    "    #print(type(listOfComments))\n",
    "    text=[]\n",
    "    seperator=\"|\"\n",
    "    for i in range(len(listOfComments)):\n",
    "        commentObject=listOfComments[i]\n",
    "        #print(commentObject[\"comment_text\"])\n",
    "        if(commentObject[\"comment_text\"]):\n",
    "            commentText=commentObject[\"comment_text\"]\n",
    "            text.append(commentText)\n",
    "            if(commentObject[\"replies\"]):\n",
    "                #print(commentObject[\"replies\"])\n",
    "                repliesText=extractReplies(commentObject[\"replies\"])\n",
    "                text.append(repliesText)\n",
    "    result=seperator.join(text)\n",
    "    return result\n"
   ]
  },
  {
   "cell_type": "code",
   "execution_count": 37,
   "id": "c0630423",
   "metadata": {},
   "outputs": [],
   "source": [
    "data=pd.read_csv(\"Comments_spiderindia_reversed_5_1to100.csv\")\n",
    "#data\n",
    "\n",
    "fileName=\"curation_sample_5.1_1to100.csv\"\n",
    "fields=[\"Author\",\"Desc\",\"Comments Text\",\"Input Text\",\"Permalink\",\"Thumb\",\"fullLink\"]\n",
    "with open(fileName,'a') as csvfile:\n",
    "    csvwriter=csv.writer(csvfile)\n",
    "    csvwriter.writerow(fields)\n",
    "\n",
    "for i in range(len(data)):\n",
    "    #print(data.loc[i])   \n",
    "    author=data.loc[i,\"Author\"]\n",
    "    desc=data.loc[i,\"Desc\"]\n",
    "    commentsString=extractCommentsText(list(eval(data.loc[i,\"Comments\"])))\n",
    "    text=\"\"\n",
    "    if(desc!=\"nan\"):\n",
    "        text=desc\n",
    "\n",
    "    inputText=str(text)+\"|\"+commentsString\n",
    "    permalink=data.loc[i,\"Permalink\"]\n",
    "    thumb=data.loc[i,\"Thumb\"]\n",
    "    fullLink=data.loc[i,\"fullLink\"]\n",
    "    row=[author,desc,commentsString,inputText,permalink,thumb,fullLink] \n",
    "    with open(fileName,'a') as csvfile1:\n",
    "        csvwriter1=csv.writer(csvfile1)\n",
    "        csvwriter1.writerow(row)\n",
    "   "
   ]
  }
 ],
 "metadata": {
  "kernelspec": {
   "display_name": "Python 3",
   "language": "python",
   "name": "python3"
  },
  "language_info": {
   "codemirror_mode": {
    "name": "ipython",
    "version": 3
   },
   "file_extension": ".py",
   "mimetype": "text/x-python",
   "name": "python",
   "nbconvert_exporter": "python",
   "pygments_lexer": "ipython3",
   "version": "3.6.9"
  }
 },
 "nbformat": 4,
 "nbformat_minor": 5
}
