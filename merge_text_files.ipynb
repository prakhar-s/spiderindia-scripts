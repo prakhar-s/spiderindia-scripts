{
 "cells": [
  {
   "cell_type": "code",
   "execution_count": 5,
   "id": "109f59a8",
   "metadata": {},
   "outputs": [],
   "source": [
    "filenames = ['placenamesOSMnsewne.txt', \n",
    "             'placenames_geonames_IN.txt',\n",
    "             'ListOfVillagesTowns_CensusOfIndia2011 (1).txt']\n",
    "with open('extended_placenames.txt', 'w') as outfile:\n",
    "    for fname in filenames:\n",
    "        with open(fname) as infile:\n",
    "            for line in infile:\n",
    "                outfile.write(line)"
   ]
  }
 ],
 "metadata": {
  "kernelspec": {
   "display_name": "Python 3",
   "language": "python",
   "name": "python3"
  },
  "language_info": {
   "codemirror_mode": {
    "name": "ipython",
    "version": 3
   },
   "file_extension": ".py",
   "mimetype": "text/x-python",
   "name": "python",
   "nbconvert_exporter": "python",
   "pygments_lexer": "ipython3",
   "version": "3.6.9"
  }
 },
 "nbformat": 4,
 "nbformat_minor": 5
}
