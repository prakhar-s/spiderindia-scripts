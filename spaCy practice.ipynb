{
 "cells": [
  {
   "cell_type": "code",
   "execution_count": 7,
   "id": "f5a6afaf",
   "metadata": {},
   "outputs": [],
   "source": [
    "import spacy\n",
    "import pandas as pd\n",
    "from spacy import displacy\n",
    "import csv\n",
    "import requests"
   ]
  },
  {
   "cell_type": "code",
   "execution_count": 8,
   "id": "da2285be",
   "metadata": {},
   "outputs": [],
   "source": [
    "nlp = spacy.load('en_core_web_lg')\n"
   ]
  },
  {
   "cell_type": "code",
   "execution_count": 3,
   "id": "38bf9c17",
   "metadata": {},
   "outputs": [],
   "source": [
    "def extract_names(namesArray):\n",
    "    if(not namesArray):\n",
    "        return []\n",
    "        \n",
    "    names=[]\n",
    "    for nameObject in namesArray:\n",
    "        names.append(nameObject['name'])\n",
    "    return names\n",
    "        \n",
    "    \n",
    "    "
   ]
  },
  {
   "cell_type": "code",
   "execution_count": 9,
   "id": "c73c65cf",
   "metadata": {},
   "outputs": [],
   "source": [
    "fields=[\"Author\",\"Desc\",\"Locations\",\"Dates\",\"Permalink\"]\n",
    "filename = \"Spacey_Locations_only_locationtagger.csv\"\n",
    "\n",
    "with open(filename, 'a') as csvfile: \n",
    "    csvwriter = csv.writer(csvfile)         \n",
    "    csvwriter.writerow(fields)         \n",
    "\n",
    "df=pd.read_csv(\"/home/prakhar/combine_data/spiderIndiaDataset.csv\")\n",
    "\n",
    "count = 0\n",
    "\n",
    "for i in range(len(df)):\n",
    "    #print(df.loc[i, \"Author\"])\n",
    "    text=df.loc[i,\"Desc\"]\n",
    "    #query = {'text':text}\n",
    "    #response = requests.get('http://localhost:8080/document-api/api/v1/services/gnfinder',params=query)\n",
    "    #names=extract_names(response.json()['names'])\n",
    "    #print(response.json()['names'])\n",
    "    locations=[]\n",
    "    dates=[]\n",
    "    \n",
    "    if type(text) == str:\n",
    "        doc=nlp(text)\n",
    "        for ent in doc.ents:\n",
    "            if(ent.label_==\"GPE\" or ent.label_==\"LOC\"):\n",
    "                locations.append(ent.text)\n",
    "            if(ent.label_==\"DATE\"):\n",
    "                dates.append(ent.text)\n",
    "       \n",
    "    author=df.loc[i,\"Author\"]\n",
    "    desc=df.loc[i,\"Desc\"]\n",
    "    permalink=df.loc[i,\"Permalink\"]\n",
    "    row=[author,desc,locations,dates,permalink]\n",
    "    \n",
    "    with open(filename,'a') as csvfile1:\n",
    "        csvwriter1=csv.writer(csvfile1)\n",
    "        csvwriter1.writerow(row)\n",
    "\n"
   ]
  },
  {
   "cell_type": "code",
   "execution_count": 4,
   "id": "3bf84b72",
   "metadata": {},
   "outputs": [],
   "source": [
    "#for testing only\n",
    "\n",
    "doc = nlp(\"Tarantula photographed in my home - I have seen this species on several occasions and this has earlier been identified as Haploclastus sp. I found on the internet that 2 species of Haploclastus (in India) have been transferred to the genus Chilobrachys. Which genus is this one? Location: Makunda Christian Hospital, Karimganj District, Assam Date: 25th April 2013 Equipment: Nikon D300s with Micro-Nikkor 105mm\")\n"
   ]
  },
  {
   "cell_type": "code",
   "execution_count": 6,
   "id": "06169404",
   "metadata": {},
   "outputs": [
    {
     "name": "stdout",
     "output_type": "stream",
     "text": [
      "India GPE\n",
      "Karimganj District GPE\n"
     ]
    }
   ],
   "source": [
    "#for testing only\n",
    "for ent in doc.ents:\n",
    "    if (ent.label_ == 'GPE' or ent.label_==\"LOC\"):\n",
    "        print(ent.text,ent.label_)"
   ]
  },
  {
   "cell_type": "code",
   "execution_count": null,
   "id": "f73be766",
   "metadata": {},
   "outputs": [],
   "source": [
    "\n",
    "\n",
    "\n",
    "\n",
    "\n",
    "\n",
    "\n",
    "\n",
    "\n",
    "\n",
    "\n",
    "\n",
    "\n",
    "\n",
    "\n",
    "\n",
    "\n",
    "\n",
    "\n",
    "\n",
    "\n",
    "\n",
    "\n",
    "\n",
    "\n",
    "\n",
    "\n",
    "\n",
    "\n",
    "\n",
    "\n",
    "\n"
   ]
  },
  {
   "cell_type": "code",
   "execution_count": 1,
   "id": "d8598c1f",
   "metadata": {},
   "outputs": [
    {
     "name": "stdout",
     "output_type": "stream",
     "text": [
      "The countries in text : \n",
      "['India']\n",
      "The states in text : \n",
      "[]\n",
      "The cities in text : \n",
      "[]\n"
     ]
    }
   ],
   "source": [
    "import locationtagger\n",
    "\n",
    "# initializing sample text\n",
    "sample_text = \"Tarantula photographed in my home - I have seen this species on several occasions and this has earlier been identified as Haploclastus sp. I found on the internet that 2 species of Haploclastus (in India) have been transferred to the genus Chilobrachys. Which genus is this one? Location: Makunda Christian Hospital, Karimganj District, Assam Date: 25th April 2013 Equipment: Nikon D300s with Micro-Nikkor 105mm\"\n",
    "\n",
    "# extracting entities.\n",
    "place_entity = locationtagger.find_locations(text = sample_text)\n",
    "\n",
    "# getting all countries\n",
    "print(\"The countries in text : \")\n",
    "print(place_entity.countries)\n",
    "\n",
    "# getting all states\n",
    "print(\"The states in text : \")\n",
    "print(place_entity.regions)\n",
    "\n",
    "# getting all cities\n",
    "print(\"The cities in text : \")\n",
    "print(place_entity.cities)\n"
   ]
  }
 ],
 "metadata": {
  "kernelspec": {
   "display_name": "Python 3",
   "language": "python",
   "name": "python3"
  },
  "language_info": {
   "codemirror_mode": {
    "name": "ipython",
    "version": 3
   },
   "file_extension": ".py",
   "mimetype": "text/x-python",
   "name": "python",
   "nbconvert_exporter": "python",
   "pygments_lexer": "ipython3",
   "version": "3.6.9"
  }
 },
 "nbformat": 4,
 "nbformat_minor": 5
}
